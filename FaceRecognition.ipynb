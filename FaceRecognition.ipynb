{
 "cells": [
  {
   "cell_type": "code",
   "execution_count": 1,
   "metadata": {},
   "outputs": [],
   "source": [
    "import matplotlib.pyplot as plt\n",
    "import tensorflow as tf\n",
    "import numpy as np\n",
    "from tensorflow import keras\n",
    "from keras import layers\n",
    "import os\n",
    "import cv2\n",
    "#Face generation using anime dataset\n"
   ]
  },
  {
   "cell_type": "code",
   "execution_count": 24,
   "metadata": {},
   "outputs": [],
   "source": [
    "#Variable definitions\n",
    "HEIGHT=64\n",
    "WIDTH=64\n",
    "LEARNING_RATE=1e-3\n",
    "CHANNELS=3\n",
    "EPOCHS=1\n",
    "BATCH_SIZE=3\n",
    "NOISE_DIM=150\n"
   ]
  },
  {
   "cell_type": "code",
   "execution_count": 25,
   "metadata": {},
   "outputs": [
    {
     "name": "stdout",
     "output_type": "stream",
     "text": [
      "0\n"
     ]
    }
   ],
   "source": [
    "print(len(tf.config.list_physical_devices(\"GPU\")))"
   ]
  },
  {
   "cell_type": "code",
   "execution_count": 26,
   "metadata": {},
   "outputs": [
    {
     "name": "stdout",
     "output_type": "stream",
     "text": [
      "63565\n"
     ]
    }
   ],
   "source": [
    "\n",
    "path ='/Users/mitchellculligan/Desktop/SFWRTECH 4NN3/FaceRecognition/images'\n",
    "print(len(os.listdir(path)))\n",
    "#load data from directory exclusivley filled with images\n",
    "def loadData(path):\n",
    "    dataset=[]\n",
    "    for img in os.listdir(path):\n",
    "        img_array= cv2.imread(os.path.join(path,img))\n",
    "        new_array=cv2.resize(img_array,(HEIGHT,WIDTH))\n",
    "        dataset.append(new_array)\n",
    "        \n",
    "    return np.array(dataset)\n",
    "\n",
    "\n",
    "data=loadData(path)"
   ]
  },
  {
   "cell_type": "code",
   "execution_count": 27,
   "metadata": {},
   "outputs": [
    {
     "data": {
      "text/plain": [
       "<matplotlib.image.AxesImage at 0x35c5b24f0>"
      ]
     },
     "execution_count": 27,
     "metadata": {},
     "output_type": "execute_result"
    },
    {
     "data": {
      "image/png": "[encoded data removed]",
      "text/plain": [
       "<Figure size 432x288 with 1 Axes>"
      ]
     },
     "metadata": {
      "needs_background": "light"
     },
     "output_type": "display_data"
    }
   ],
   "source": [
    "plt.imshow(data[4])"
   ]
  },
  {
   "cell_type": "code",
   "execution_count": 28,
   "metadata": {},
   "outputs": [
    {
     "name": "stdout",
     "output_type": "stream",
     "text": [
      "Model: \"model_4\"\n",
      "_________________________________________________________________\n",
      " Layer (type)                Output Shape              Param #   \n",
      "=================================================================\n",
      " input_3 (InputLayer)        [(None, 150)]             0         \n",
      "                                                                 \n",
      " normalization_4 (Normaliza  (None, 150)               301       \n",
      " tion)                                                           \n",
      "                                                                 \n",
      " generator_layer_1 (Dense)   (None, 4096)              618496    \n",
      "                                                                 \n",
      " batch_normalization_8 (Bat  (None, 4096)              16384     \n",
      " chNormalization)                                                \n",
      "                                                                 \n",
      " generator_reshape_layer (R  (None, 64, 64, 1)         0         \n",
      " eshape)                                                         \n",
      "                                                                 \n",
      " conv_layer1_generator (Con  (None, 64, 64, 4)         40        \n",
      " v2DTranspose)                                                   \n",
      "                                                                 \n",
      " conv_layer2_generator (Con  (None, 64, 64, 6)         390       \n",
      " v2DTranspose)                                                   \n",
      "                                                                 \n",
      " batch_normalization_9 (Bat  (None, 64, 64, 6)         24        \n",
      " chNormalization)                                                \n",
      "                                                                 \n",
      " conv_layer3_generator (Con  (None, 64, 64, 16)        2416      \n",
      " v2DTranspose)                                                   \n",
      "                                                                 \n",
      " batch_normalization_10 (Ba  (None, 64, 64, 16)        64        \n",
      " tchNormalization)                                               \n",
      "                                                                 \n",
      " conv_layer4_generator (Con  (None, 64, 64, 12)        3084      \n",
      " v2DTranspose)                                                   \n",
      "                                                                 \n",
      " dropout_4 (Dropout)         (None, 64, 64, 12)        0         \n",
      "                                                                 \n",
      " conv_layer5_generator (Con  (None, 64, 64, 3)         327       \n",
      " v2DTranspose)                                                   \n",
      "                                                                 \n",
      "=================================================================\n",
      "Total params: 641526 (2.45 MB)\n",
      "Trainable params: 632989 (2.41 MB)\n",
      "Non-trainable params: 8537 (33.35 KB)\n",
      "_________________________________________________________________\n"
     ]
    },
    {
     "name": "stderr",
     "output_type": "stream",
     "text": [
      "WARNING:absl:At this time, the v2.11+ optimizer `tf.keras.optimizers.Adam` runs slowly on M1/M2 Macs, please use the legacy Keras optimizer instead, located at `tf.keras.optimizers.legacy.Adam`.\n",
      "WARNING:absl:There is a known slowdown when using v2.11+ Keras optimizers on M1/M2 Macs. Falling back to the legacy Keras optimizer, i.e., `tf.keras.optimizers.legacy.Adam`.\n"
     ]
    },
    {
     "name": "stdout",
     "output_type": "stream",
     "text": [
      "tf.Tensor(\n",
      "[[[0.49969158 0.50081307 0.50083625]\n",
      "  [0.4996419  0.50044316 0.500788  ]\n",
      "  [0.49992037 0.49949604 0.50050414]\n",
      "  ...\n",
      "  [0.5002432  0.50035125 0.5007559 ]\n",
      "  [0.5001211  0.4984973  0.50042737]\n",
      "  [0.5004586  0.4996856  0.49983194]]\n",
      "\n",
      " [[0.49889186 0.5007156  0.5002962 ]\n",
      "  [0.49956787 0.4994648  0.5001844 ]\n",
      "  [0.5003948  0.49819973 0.49973685]\n",
      "  ...\n",
      "  [0.50015473 0.4991126  0.49840385]\n",
      "  [0.50256    0.49859875 0.49871925]\n",
      "  [0.50069577 0.49849766 0.5000022 ]]\n",
      "\n",
      " [[0.49780455 0.5004348  0.50005305]\n",
      "  [0.49982125 0.49779582 0.49990696]\n",
      "  [0.49964944 0.49867043 0.5000301 ]\n",
      "  ...\n",
      "  [0.500102   0.49603063 0.49929175]\n",
      "  [0.501765   0.49652722 0.500154  ]\n",
      "  [0.50122195 0.4987163  0.49962038]]\n",
      "\n",
      " ...\n",
      "\n",
      " [[0.49985665 0.49963695 0.4992525 ]\n",
      "  [0.4988636  0.5005911  0.49899396]\n",
      "  [0.49974957 0.49983808 0.49553347]\n",
      "  ...\n",
      "  [0.49992195 0.5000997  0.49886   ]\n",
      "  [0.5009436  0.49970683 0.4986947 ]\n",
      "  [0.49833414 0.49968788 0.50066805]]\n",
      "\n",
      " [[0.4989159  0.5009265  0.50016665]\n",
      "  [0.49784717 0.49841845 0.50032365]\n",
      "  [0.5006329  0.49989787 0.5000511 ]\n",
      "  ...\n",
      "  [0.49771318 0.4980954  0.49912566]\n",
      "  [0.5024322  0.49790868 0.49820858]\n",
      "  [0.5027848  0.49805778 0.49935207]]\n",
      "\n",
      " [[0.50015616 0.49963325 0.49903476]\n",
      "  [0.50019455 0.500986   0.4985028 ]\n",
      "  [0.50019157 0.49860498 0.49853632]\n",
      "  ...\n",
      "  [0.49865013 0.5001525  0.49982932]\n",
      "  [0.49838066 0.49795225 0.4990034 ]\n",
      "  [0.50040674 0.49913758 0.5005097 ]]], shape=(64, 64, 3), dtype=float32)\n"
     ]
    },
    {
     "data": {
      "text/plain": [
       "<matplotlib.image.AxesImage at 0x35b927310>"
      ]
     },
     "execution_count": 28,
     "metadata": {},
     "output_type": "execute_result"
    },
    {
     "data": {
      "image/png": "[encoded data removed]",
      "text/plain": [
       "<Figure size 432x288 with 1 Axes>"
      ]
     },
     "metadata": {
      "needs_background": "light"
     },
     "output_type": "display_data"
    }
   ],
   "source": [
    "#Create Generator model\n",
    "def createGenerator(height,width,channels,noise_dim):\n",
    "#takes in 2 numbers mean and variance(Or supposedly)\n",
    "    gInputs=layers.Input(shape=(noise_dim,))\n",
    "    norm=layers.Normalization()(gInputs)\n",
    "    h0=layers.Dense(height*width,activation='relu',name='generator_layer_1',kernel_initializer='glorot_normal')(norm)\n",
    "    norm=layers.BatchNormalization()(h0)\n",
    "    gReshape=layers.Reshape((height,width,1),name='generator_reshape_layer')(norm)#Reshaping to fit the conv layers\n",
    "    conv0=layers.Conv2DTranspose(4,3,activation='relu',padding='same',kernel_initializer='glorot_normal',name='conv_layer1_generator')(gReshape)\n",
    "    conv1=layers.Conv2DTranspose(6,4,activation='relu',name='conv_layer2_generator',padding='same',kernel_initializer='glorot_normal')(conv0)\n",
    "    norm=layers.BatchNormalization()(conv1)\n",
    "    conv2=layers.Conv2DTranspose(16,5,padding='same',activation='relu',name='conv_layer3_generator',kernel_initializer='glorot_normal')(norm)\n",
    "    norm=layers.BatchNormalization()(conv2)\n",
    "    conv3=layers.Conv2DTranspose(12,4,padding='same',activation='relu',name='conv_layer4_generator',kernel_initializer='glorot_normal')(norm)\n",
    "    drop_out=layers.Dropout(0.4)(conv3)\n",
    "    conv4=layers.Conv2DTranspose(channels,3,padding='same',activation='sigmoid',kernel_initializer='glorot_normal', name='conv_layer5_generator')(drop_out)\n",
    " \n",
    "\n",
    "    generator=keras.Model(inputs=gInputs,outputs=conv4)\n",
    "\n",
    "    return generator\n",
    "\n",
    "\n",
    "generator=createGenerator(HEIGHT,WIDTH,CHANNELS,NOISE_DIM)\n",
    "\n",
    "generator.summary()\n",
    "\n",
    "generator.compile(optimizer=keras.optimizers.Adam(learning_rate=LEARNING_RATE),loss=keras.losses.BinaryCrossentropy(from_logits=False))\n",
    "\n",
    "\n",
    "mean_var_const=tf.random.normal([2,NOISE_DIM])\n",
    "\n",
    "image=generator(mean_var_const)\n",
    "print(image[0])\n",
    "plt.imshow(image[0])"
   ]
  },
  {
   "cell_type": "code",
   "execution_count": 29,
   "metadata": {},
   "outputs": [
    {
     "name": "stdout",
     "output_type": "stream",
     "text": [
      "Model: \"model_5\"\n",
      "_________________________________________________________________\n",
      " Layer (type)                Output Shape              Param #   \n",
      "=================================================================\n",
      " discriminator_input (Input  [(None, 64, 64, 3)]       0         \n",
      " Layer)                                                          \n",
      "                                                                 \n",
      " normalization_5 (Normaliza  (None, 64, 64, 3)         7         \n",
      " tion)                                                           \n",
      "                                                                 \n",
      " reshape_2 (Reshape)         (None, 64, 64, 3)         0         \n",
      "                                                                 \n",
      " discriminator_conv1 (Conv2  (None, 64, 64, 5)         140       \n",
      " D)                                                              \n",
      "                                                                 \n",
      " discriminator_conv2 (Conv2  (None, 64, 64, 6)         276       \n",
      " D)                                                              \n",
      "                                                                 \n",
      " average_pooling2d_6 (Avera  (None, 32, 32, 6)         0         \n",
      " gePooling2D)                                                    \n",
      "                                                                 \n",
      " discriminator_conv3 (Conv2  (None, 32, 32, 12)        1164      \n",
      " D)                                                              \n",
      "                                                                 \n",
      " average_pooling2d_7 (Avera  (None, 16, 16, 12)        0         \n",
      " gePooling2D)                                                    \n",
      "                                                                 \n",
      " discriminator_conv4 (Conv2  (None, 16, 16, 12)        2316      \n",
      " D)                                                              \n",
      "                                                                 \n",
      " average_pooling2d_8 (Avera  (None, 8, 8, 12)          0         \n",
      " gePooling2D)                                                    \n",
      "                                                                 \n",
      " discriminator_conv5 (Conv2  (None, 8, 8, 24)          2616      \n",
      " D)                                                              \n",
      "                                                                 \n",
      " flatten_2 (Flatten)         (None, 1536)              0         \n",
      "                                                                 \n",
      " batch_normalization_11 (Ba  (None, 1536)              6144      \n",
      " tchNormalization)                                               \n",
      "                                                                 \n",
      " first_connected_layer_disc  (None, 24)                36888     \n",
      " riminator (Dense)                                               \n",
      "                                                                 \n",
      " dropout_5 (Dropout)         (None, 24)                0         \n",
      "                                                                 \n",
      " output_discriminator (Dens  (None, 1)                 25        \n",
      " e)                                                              \n",
      "                                                                 \n",
      "=================================================================\n",
      "Total params: 49576 (193.66 KB)\n",
      "Trainable params: 46497 (181.63 KB)\n",
      "Non-trainable params: 3079 (12.03 KB)\n",
      "_________________________________________________________________\n"
     ]
    },
    {
     "name": "stderr",
     "output_type": "stream",
     "text": [
      "WARNING:absl:At this time, the v2.11+ optimizer `tf.keras.optimizers.Adam` runs slowly on M1/M2 Macs, please use the legacy Keras optimizer instead, located at `tf.keras.optimizers.legacy.Adam`.\n",
      "WARNING:absl:There is a known slowdown when using v2.11+ Keras optimizers on M1/M2 Macs. Falling back to the legacy Keras optimizer, i.e., `tf.keras.optimizers.legacy.Adam`.\n"
     ]
    }
   ],
   "source": [
    "#make Discriminator model\n",
    "\n",
    "def createDiscriminator(height,width,channels):\n",
    "\n",
    "    input=layers.Input(shape=(height,width,channels),name='discriminator_input')\n",
    "    norm=layers.Normalization()(input)\n",
    "    reshape=layers.Reshape((height,width,channels))(norm)\n",
    "    conv0=layers.Conv2D(5,3,activation='relu',kernel_initializer='glorot_normal',padding='same',name='discriminator_conv1')(reshape)\n",
    "    conv1=layers.Conv2D(6,3,activation='relu',padding='same',kernel_initializer='glorot_normal',name='discriminator_conv2')(conv0)\n",
    "    pool0=layers.AveragePooling2D((2,2))(conv1)\n",
    "    conv2=layers.Conv2D(12,4,padding='same',activation='relu',name='discriminator_conv3',kernel_initializer='glorot_normal')(pool0)\n",
    "    pool1=layers.AveragePooling2D((2,2))(conv2)\n",
    "    conv2=layers.Conv2D(12,4,padding='same',activation='relu',name='discriminator_conv4',kernel_initializer='glorot_normal')(pool1)\n",
    "    pool2=layers.AveragePooling2D((2,2))(conv2)\n",
    "    conv3=layers.Conv2D(24,3,padding='same',activation='relu',name='discriminator_conv5',kernel_initializer='glorot_normal')(pool2)\n",
    "    flat_layer=layers.Flatten()(conv3)\n",
    "    batch_norm=layers.BatchNormalization()(flat_layer)\n",
    "    fc1=layers.Dense(24,activation='sigmoid',kernel_initializer='glorot_normal',name='first_connected_layer_discriminator')(batch_norm)\n",
    "    drop_out=layers.Dropout(0.2)(fc1)\n",
    "    output=layers.Dense(1,activation='sigmoid',name='output_discriminator',kernel_initializer='glorot_normal')(drop_out)\n",
    "    #outputs the probability of if the given image is real or not\n",
    "\n",
    "    discriminator=keras.Model(inputs=input,outputs=output)\n",
    "    return discriminator\n",
    "\n",
    "discriminator=createDiscriminator(HEIGHT,WIDTH,CHANNELS)\n",
    "\n",
    "\n",
    "discriminator.summary()\n",
    "\n",
    "discriminator.compile(optimizer=keras.optimizers.Adam(learning_rate=LEARNING_RATE),loss=keras.losses.BinaryCrossentropy(from_logits=False))"
   ]
  },
  {
   "cell_type": "code",
   "execution_count": 30,
   "metadata": {},
   "outputs": [],
   "source": [
    "\n",
    "\n",
    "@tf.function\n",
    "def trainStep(discriminator,generator,data, batchSize,noiseDims):\n",
    "    noise=tf.random.normal([batchSize,noiseDims])\n",
    "    disc_loss=None\n",
    "    generator_loss=None\n",
    "    with tf.GradientTape() as d_tape,tf.GradientTape() as g_tape:\n",
    "        #generate fake images from noise\n",
    "        fake_images=generator(noise,training=True)\n",
    "        #generate the discriminator loss on real and fake images\n",
    "        real_outputs=discriminator(data,training=True)\n",
    "        fake_outputs=discriminator(fake_images,training=True)\n",
    "        real_loss=discriminator.loss(tf.ones_like(real_outputs),real_outputs)\n",
    "        fake_loss=discriminator.loss(tf.zeros_like(fake_outputs),fake_outputs)\n",
    "       \n",
    "        disc_loss=fake_loss+real_loss\n",
    "\n",
    "       \n",
    "        #we hope that the discriminator got all of the images wrong\n",
    "        generator_loss=generator.loss(tf.ones_like(fake_outputs),fake_outputs)\n",
    "        #compute gradients\n",
    "        d_grads=d_tape.gradient(disc_loss,discriminator.trainable_variables)\n",
    "        g_grads=g_tape.gradient(generator_loss,generator.trainable_variables)\n",
    "\n",
    "        #apply gradients\n",
    "        discriminator.optimizer.apply_gradients(zip(d_grads,discriminator.trainable_variables))\n",
    "        generator.optimizer.apply_gradients(zip(g_grads,generator.trainable_variables))\n",
    "\n",
    "    return generator_loss,disc_loss\n",
    "\n",
    "\n",
    "\n",
    "\n",
    "def trainLoop(discriminator,generator,dataSet,batchSize,epochs,noiseDim):\n",
    "    d_loss=[]\n",
    "    g_loss=[]\n",
    "    for epoch in range(epochs):\n",
    "        for step,data in enumerate(dataSet):\n",
    "            gen_loss,dis_loss=trainStep(discriminator,generator,data,batchSize,noiseDim)\n",
    "            if step%1000==0:\n",
    "                print(f\"Step: {step}\")\n",
    "                g_loss.append(gen_loss)\n",
    "                d_loss.append(dis_loss)\n",
    "                print(f\"Epoch: {epoch+1}\\nGen Loss: {g_loss[-1]}\\nDiscriminator Loss: {d_loss[-1]}\")\n",
    "        g_loss.append(gen_loss)\n",
    "        d_loss.append(dis_loss)\n",
    "        print(f\"Epoch: {epoch+1}\\nGen Loss: {g_loss[-1]}\\nDiscriminator Loss: {d_loss[-1]}\")\n",
    "    \n",
    "\n",
    "    return g_loss,d_loss\n",
    "\n"
   ]
  },
  {
   "cell_type": "code",
   "execution_count": 31,
   "metadata": {},
   "outputs": [],
   "source": [
    "\n",
    "train_dataset=tf.data.Dataset.from_tensor_slices((data))\n",
    "train_dataset=train_dataset.shuffle(buffer_size=20).batch(BATCH_SIZE)\n",
    "\n"
   ]
  },
  {
   "cell_type": "code",
   "execution_count": 32,
   "metadata": {},
   "outputs": [
    {
     "name": "stdout",
     "output_type": "stream",
     "text": [
      "Step: 0\n",
      "Epoch: 1\n",
      "Gen Loss: 0.6686801910400391\n",
      "Discriminator Loss: 1.4460630416870117\n",
      "Step: 1000\n",
      "Epoch: 1\n",
      "Gen Loss: 3.6628458499908447\n",
      "Discriminator Loss: 0.05524453520774841\n",
      "Step: 2000\n",
      "Epoch: 1\n",
      "Gen Loss: 3.14685320854187\n",
      "Discriminator Loss: 0.06580840796232224\n",
      "Step: 3000\n",
      "Epoch: 1\n",
      "Gen Loss: 3.1001691818237305\n",
      "Discriminator Loss: 0.06776063144207001\n",
      "Step: 4000\n",
      "Epoch: 1\n",
      "Gen Loss: 4.043191909790039\n",
      "Discriminator Loss: 0.04181478172540665\n",
      "Step: 5000\n",
      "Epoch: 1\n",
      "Gen Loss: 5.522912979125977\n",
      "Discriminator Loss: 0.012905459851026535\n",
      "Step: 6000\n",
      "Epoch: 1\n",
      "Gen Loss: 4.298157215118408\n",
      "Discriminator Loss: 0.017759857699275017\n",
      "Step: 7000\n",
      "Epoch: 1\n",
      "Gen Loss: 5.182973384857178\n",
      "Discriminator Loss: 0.008272623643279076\n",
      "Step: 8000\n",
      "Epoch: 1\n",
      "Gen Loss: 5.011406421661377\n",
      "Discriminator Loss: 0.011892888695001602\n",
      "Step: 9000\n",
      "Epoch: 1\n",
      "Gen Loss: 5.72288703918457\n",
      "Discriminator Loss: 0.003362637013196945\n",
      "Step: 10000\n",
      "Epoch: 1\n",
      "Gen Loss: 3.0434494018554688\n",
      "Discriminator Loss: 0.05707657337188721\n",
      "Step: 11000\n",
      "Epoch: 1\n",
      "Gen Loss: 5.132502555847168\n",
      "Discriminator Loss: 0.09294421970844269\n",
      "Step: 12000\n",
      "Epoch: 1\n",
      "Gen Loss: 5.022523880004883\n",
      "Discriminator Loss: 0.010082143358886242\n",
      "Step: 13000\n",
      "Epoch: 1\n",
      "Gen Loss: 4.967235088348389\n",
      "Discriminator Loss: 0.010306724347174168\n",
      "Step: 14000\n",
      "Epoch: 1\n",
      "Gen Loss: 5.826326370239258\n",
      "Discriminator Loss: 0.004872105550020933\n",
      "Step: 15000\n",
      "Epoch: 1\n",
      "Gen Loss: 6.809410572052002\n",
      "Discriminator Loss: 0.0015822696732357144\n",
      "Step: 16000\n",
      "Epoch: 1\n",
      "Gen Loss: 6.114832401275635\n",
      "Discriminator Loss: 0.0031110509298741817\n",
      "Step: 17000\n",
      "Epoch: 1\n",
      "Gen Loss: 6.76397180557251\n",
      "Discriminator Loss: 0.001701629371382296\n",
      "Step: 18000\n",
      "Epoch: 1\n",
      "Gen Loss: 5.519972324371338\n",
      "Discriminator Loss: 0.006280236411839724\n",
      "Step: 19000\n",
      "Epoch: 1\n",
      "Gen Loss: 6.5220255851745605\n",
      "Discriminator Loss: 0.0018219832563772798\n",
      "Step: 20000\n",
      "Epoch: 1\n",
      "Gen Loss: 5.4930500984191895\n",
      "Discriminator Loss: 0.004611642099916935\n",
      "Step: 21000\n",
      "Epoch: 1\n",
      "Gen Loss: 6.373867511749268\n",
      "Discriminator Loss: 0.002441954566165805\n",
      "Epoch: 1\n",
      "Gen Loss: 7.278148651123047\n",
      "Discriminator Loss: 4.363924980163574\n"
     ]
    }
   ],
   "source": [
    "#call training loop func\n",
    "\n",
    "gen_loss,dis_loss=trainLoop(discriminator,generator,train_dataset,BATCH_SIZE,EPOCHS,NOISE_DIM)"
   ]
  },
  {
   "cell_type": "code",
   "execution_count": 33,
   "metadata": {},
   "outputs": [
    {
     "data": {
      "image/png": "[encoded data removed]",
      "text/plain": [
       "<Figure size 432x288 with 1 Axes>"
      ]
     },
     "metadata": {
      "needs_background": "light"
     },
     "output_type": "display_data"
    }
   ],
   "source": [
    "plt.plot(gen_loss,label='generator Loss')\n",
    "plt.plot(dis_loss,label='discriminator Loss')\n",
    "plt.ylabel('Loss')\n",
    "plt.title(\"Generator Vs discriminator Loss\")\n",
    "plt.legend()\n",
    "plt.show()"
   ]
  },
  {
   "cell_type": "code",
   "execution_count": 34,
   "metadata": {},
   "outputs": [
    {
     "data": {
      "text/plain": [
       "<matplotlib.image.AxesImage at 0x35b9e7cd0>"
      ]
     },
     "execution_count": 34,
     "metadata": {},
     "output_type": "execute_result"
    },
    {
     "data": {
      "image/png": "[encoded data removed]",
      "text/plain": [
       "<Figure size 432x288 with 1 Axes>"
      ]
     },
     "metadata": {
      "needs_background": "light"
     },
     "output_type": "display_data"
    }
   ],
   "source": [
    "\n",
    "index=12\n",
    "\n",
    "\n",
    "\n",
    "plt.imshow(data[index])\n"
   ]
  },
  {
   "cell_type": "code",
   "execution_count": 38,
   "metadata": {},
   "outputs": [
    {
     "data": {
      "text/plain": [
       "<matplotlib.image.AxesImage at 0x35bb8d5b0>"
      ]
     },
     "execution_count": 38,
     "metadata": {},
     "output_type": "execute_result"
    },
    {
     "data": {
      "image/png": "[encoded data removed]",
      "text/plain": [
       "<Figure size 432x288 with 1 Axes>"
      ]
     },
     "metadata": {
      "needs_background": "light"
     },
     "output_type": "display_data"
    }
   ],
   "source": [
    "noise=tf.random.normal([1,NOISE_DIM])\n",
    "image=generator(noise)\n",
    "plt.imshow(image[0])"
   ]
  }
 ],
 "metadata": {
  "kernelspec": {
   "display_name": "Python 3 (ipykernel)",
   "language": "python",
   "name": "python3"
  },
  "language_info": {
   "codemirror_mode": {
    "name": "ipython",
    "version": 3
   },
   "file_extension": ".py",
   "mimetype": "text/x-python",
   "name": "python",
   "nbconvert_exporter": "python",
   "pygments_lexer": "ipython3",
   "version": "3.9.12"
  }
 },
 "nbformat": 4,
 "nbformat_minor": 2
}
